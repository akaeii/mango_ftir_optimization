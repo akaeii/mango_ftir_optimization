{
 "cells": [
  {
   "cell_type": "code",
   "execution_count": 1,
   "metadata": {},
   "outputs": [],
   "source": [
    "import pandas as pd\n",
    "import os \n",
    "import glob"
   ]
  },
  {
   "cell_type": "code",
   "execution_count": 19,
   "metadata": {},
   "outputs": [],
   "source": [
    "scan_numbers = [15, 24, 30, 48, 64]\n",
    "input_dir = \"./raw_spectra_files\"\n",
    "output_dir = \"compiled_spectral_data\"\n",
    "os.makedirs(output_dir, exist_ok=True)\n",
    "\n",
    "scan_number_dirs = glob.glob(f\"{input_dir}/* Scans\")\n",
    "\n",
    "for scan_number, scan_number_dir in zip(scan_numbers, scan_number_dirs):\n",
    "    scan_number_df = pd.DataFrame()\n",
    "    replicate_dirs = glob.glob(f\"{scan_number_dir}/*.csv\")\n",
    "\n",
    "    for (replicate_number, replicate_dir) in enumerate(replicate_dirs, start=1):\n",
    "        replicate_spectrum = pd.read_csv(replicate_dir, skiprows=2, names=['wavenumber', 'transmittance'])\n",
    "        scan_number_df[f'gas_ftir_scan{scan_number}_replicate{replicate_number}'] = replicate_spectrum['transmittance']\n",
    "\n",
    "        if scan_number == 15:\n",
    "            wavenumber = replicate_spectrum['wavenumber']\n",
    "            wavenumber.to_csv(\"./compiled_spectral_data/wavenumber.csv\", index=False)\n",
    "    \n",
    "    scan_number_df.to_csv(f\"./compiled_spectral_data/gas_ftir_scan{scan_number}.csv\", index=False)"
   ]
  }
 ],
 "metadata": {
  "kernelspec": {
   "display_name": "venv",
   "language": "python",
   "name": "python3"
  },
  "language_info": {
   "codemirror_mode": {
    "name": "ipython",
    "version": 3
   },
   "file_extension": ".py",
   "mimetype": "text/x-python",
   "name": "python",
   "nbconvert_exporter": "python",
   "pygments_lexer": "ipython3",
   "version": "3.13.2"
  }
 },
 "nbformat": 4,
 "nbformat_minor": 2
}
