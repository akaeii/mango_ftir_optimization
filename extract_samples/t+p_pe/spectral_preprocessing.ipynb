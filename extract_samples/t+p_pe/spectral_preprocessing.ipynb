{
 "cells": [
  {
   "cell_type": "code",
   "execution_count": 1,
   "metadata": {},
   "outputs": [],
   "source": [
    "import pandas as pd\n",
    "import os\n",
    "import glob\n",
    "import re"
   ]
  },
  {
   "cell_type": "code",
   "execution_count": 2,
   "metadata": {},
   "outputs": [],
   "source": [
    "input_path = \"./Mango Trichomes + Pollen Extracts Optimization\"\n",
    "output_path = \"protein_extract_spectra\"\n",
    "\n",
    "os.makedirs(output_path, exist_ok=True)\n",
    "\n",
    "scans_dirs = glob.glob(f\"{input_path}/*\")\n",
    "\n",
    "scan_number_names = [\"24\", \"32\"]"
   ]
  },
  {
   "cell_type": "code",
   "execution_count": 3,
   "metadata": {},
   "outputs": [
    {
     "data": {
      "text/plain": [
       "['./Mango Trichomes + Pollen Extracts Optimization\\\\24 Scans',\n",
       " './Mango Trichomes + Pollen Extracts Optimization\\\\32 Scans']"
      ]
     },
     "execution_count": 3,
     "metadata": {},
     "output_type": "execute_result"
    }
   ],
   "source": [
    "scans_dirs"
   ]
  },
  {
   "cell_type": "code",
   "execution_count": 4,
   "metadata": {},
   "outputs": [],
   "source": [
    "for s_name, scan_dir in zip(scan_number_names, scans_dirs):\n",
    "    protein_extract_spectra = pd.DataFrame()\n",
    "\n",
    "    sample_dirs = glob.glob(f\"{scan_dir}/Replicate*\")\n",
    "    sample_dirs = sorted(sample_dirs, key=lambda x: int(re.findall(r\"Replicate \\d+\", x)[0].split(\" \")[-1]))\n",
    "\n",
    "    for sample_no, sample in enumerate(sample_dirs, start=1):\n",
    "        quadrant_dirs = glob.glob(f\"{sample}/*.dpt\")\n",
    "        compiled_quadrants = pd.DataFrame()\n",
    "\n",
    "        for quadrant_no, quadrant in enumerate(quadrant_dirs, start=1):\n",
    "            quadrant_df = pd.read_csv(quadrant, names=['wavenumber', 'absorbance'])\n",
    "            compiled_quadrants[f\"quadrant{quadrant_no}\"] = quadrant_df['absorbance']\n",
    "\n",
    "        protein_extract_spectra[f'protein_extract_{s_name}_scans_sample{sample_no}'] = compiled_quadrants.mean(axis=1)\n",
    "\n",
    "    protein_extract_spectra.to_csv(f'protein_extract_spectra/protein_extract_{s_name}_scans.csv', index=False)"
   ]
  }
 ],
 "metadata": {
  "kernelspec": {
   "display_name": "Python 3",
   "language": "python",
   "name": "python3"
  },
  "language_info": {
   "codemirror_mode": {
    "name": "ipython",
    "version": 3
   },
   "file_extension": ".py",
   "mimetype": "text/x-python",
   "name": "python",
   "nbconvert_exporter": "python",
   "pygments_lexer": "ipython3",
   "version": "3.13.2"
  }
 },
 "nbformat": 4,
 "nbformat_minor": 2
}
