{
 "cells": [
  {
   "cell_type": "code",
   "execution_count": 3,
   "metadata": {},
   "outputs": [],
   "source": [
    "import pandas as pd\n",
    "import os\n",
    "import glob\n",
    "import re"
   ]
  },
  {
   "cell_type": "code",
   "execution_count": 4,
   "metadata": {},
   "outputs": [],
   "source": [
    "input_path = \"./scans\"\n",
    "output_path = \"protein_extract_spectra\"\n",
    "\n",
    "os.makedirs(output_path, exist_ok=True)\n",
    "\n",
    "scans_dirs = glob.glob(f\"{input_path}/*\")\n",
    "\n",
    "scan_number_names = [\"24\", \"24d\", \"32\", \"48\"]"
   ]
  },
  {
   "cell_type": "code",
   "execution_count": null,
   "metadata": {},
   "outputs": [],
   "source": [
    "for s_name, dose  in zip(scan_number_names, scans_dirs):\n",
    "    protein_extract_spectra = pd.DataFrame()\n",
    "\n",
    "    sample_dirs = glob.glob(f\"{dose}/Sample*\")\n",
    "    sample_dirs = sorted(sample_dirs, key=lambda x: int(re.findall(r\"Sample \\d+\", x)[0].split(\" \")[-1]))\n",
    "\n",
    "    for sample_no, sample in enumerate(sample_dirs, start=1):\n",
    "        quadrant_dirs = glob.glob(f\"{sample}/*.dpt\")\n",
    "        compiled_quadrants = pd.DataFrame()\n",
    "\n",
    "        for quadrant_no, quadrant in enumerate(quadrant_dirs, start=1):\n",
    "            quadrant_df = pd.read_csv(quadrant, names=['wavenumber', 'absorbance'])\n",
    "            compiled_quadrants[f\"quadrant{quadrant_no}\"] = quadrant_df['absorbance']\n",
    "\n",
    "        protein_extract_spectra[f'protein_extract_{d_number}kgy_sample{sample_no}'] = compiled_quadrants.mean(axis=1)\n",
    "\n",
    "    protein_extract_spectra.to_csv(f'protein_extract_spectra/protein_extract_{d_number}kgy.csv', index=False)"
   ]
  }
 ],
 "metadata": {
  "kernelspec": {
   "display_name": "Python 3",
   "language": "python",
   "name": "python3"
  },
  "language_info": {
   "codemirror_mode": {
    "name": "ipython",
    "version": 3
   },
   "file_extension": ".py",
   "mimetype": "text/x-python",
   "name": "python",
   "nbconvert_exporter": "python",
   "pygments_lexer": "ipython3",
   "version": "3.13.2"
  }
 },
 "nbformat": 4,
 "nbformat_minor": 2
}
