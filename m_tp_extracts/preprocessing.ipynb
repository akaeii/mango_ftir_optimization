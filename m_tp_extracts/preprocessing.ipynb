{
 "cells": [
  {
   "cell_type": "code",
   "execution_count": 1,
   "metadata": {},
   "outputs": [],
   "source": [
    "import pandas as pd\n",
    "import os\n",
    "import glob"
   ]
  },
  {
   "cell_type": "code",
   "execution_count": 6,
   "metadata": {},
   "outputs": [],
   "source": [
    "def preprocess(input_dir, output_dir):\n",
    "    scan_numbers = [32, 48]\n",
    "    os.makedirs(output_dir, exist_ok=True)\n",
    "\n",
    "    scan_number_dirs = glob.glob(f\"{input_dir}/* Scans\")\n",
    "\n",
    "    print(scan_number_dirs)\n",
    "\n",
    "    for scan_number, scan_number_dir in zip(scan_numbers, scan_number_dirs):\n",
    "        scan_number_df = pd.DataFrame()\n",
    "        replicate_dirs = glob.glob(f\"{scan_number_dir}/*.dpt\")\n",
    "\n",
    "        for (replicate_number, replicate_dir) in enumerate(replicate_dirs, start=1):\n",
    "            replicate_spectrum = pd.read_csv(replicate_dir, names=['wavenumber', 'absorbance'])\n",
    "            scan_number_df[f'tp_extract_{scan_number}_replicate{replicate_number}'] = replicate_spectrum['absorbance']\n",
    "\n",
    "            if scan_number == 32:\n",
    "                wavenumber = replicate_spectrum['wavenumber']\n",
    "                wavenumber.to_csv(\"./compiled_spectral_data/wavenumber.csv\", index=False)\n",
    "\n",
    "        scan_number_df.to_csv(f\"./compiled_spectral_data/tp_extract_{scan_number}.csv\", index=False)"
   ]
  },
  {
   "cell_type": "code",
   "execution_count": 7,
   "metadata": {},
   "outputs": [
    {
     "name": "stdout",
     "output_type": "stream",
     "text": [
      "['m_tp_extracts_spectra\\\\32 Scans', 'm_tp_extracts_spectra\\\\48 Scans']\n"
     ]
    }
   ],
   "source": [
    "preprocess(input_dir = \"m_tp_extracts_spectra\",\n",
    "           output_dir = \"compiled_spectral_data\")"
   ]
  }
 ],
 "metadata": {
  "kernelspec": {
   "display_name": "venv",
   "language": "python",
   "name": "python3"
  },
  "language_info": {
   "codemirror_mode": {
    "name": "ipython",
    "version": 3
   },
   "file_extension": ".py",
   "mimetype": "text/x-python",
   "name": "python",
   "nbconvert_exporter": "python",
   "pygments_lexer": "ipython3",
   "version": "3.11.9"
  }
 },
 "nbformat": 4,
 "nbformat_minor": 2
}
